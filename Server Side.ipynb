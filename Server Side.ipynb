{
 "cells": [
  {
   "cell_type": "code",
   "execution_count": null,
   "id": "fd7a9b48",
   "metadata": {},
   "outputs": [],
   "source": [
    "import socket\n",
    "import numpy as np\n",
    "import cv2 as cv\n",
    "#import threading\n",
    "\n",
    "skt = socket.socket() #creating socket\n",
    "skt.bind(('192.168.1.9', 1234)) #bind socket\n",
    "skt.listen() \n",
    "session, address = skt.accept() #accepting request from any server\n",
    "#print(session.recv(2046)) \n",
    "cameraIndex = 'https://192.168.1.6:8080/video' # using camera from IPCamera App\n",
    "#cameraIndex = 'https://192.168.1.6:8080/video'\n",
    "camera = cv.VideoCapture(0) # staritng camera\n",
    "def sender():\n",
    "    while True:\n",
    "        camera = cv.VideoCapture(0)\n",
    "        status, photo = camera.read()\n",
    "        photo = cv.resize(photo, (640, 480))\n",
    "        #print(photo.shape)\n",
    "        if status: #if status is true that camera is on then enter loop\n",
    "            session.send(np.ndarray.tobytes(photo))  #send to the accepted session\n",
    "        else: print(\"Could not get frame\")\n",
    "\n",
    "sender()\n",
    "\n",
    "#threading.Thread(target=sender).start() #only if we have multiple functions"
   ]
  },
  {
   "cell_type": "code",
   "execution_count": null,
   "id": "f69dbf3a",
   "metadata": {},
   "outputs": [],
   "source": []
  }
 ],
 "metadata": {
  "kernelspec": {
   "display_name": "Python 3",
   "language": "python",
   "name": "python3"
  },
  "language_info": {
   "codemirror_mode": {
    "name": "ipython",
    "version": 3
   },
   "file_extension": ".py",
   "mimetype": "text/x-python",
   "name": "python",
   "nbconvert_exporter": "python",
   "pygments_lexer": "ipython3",
   "version": "3.8.8"
  }
 },
 "nbformat": 4,
 "nbformat_minor": 5
}
